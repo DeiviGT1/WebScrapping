{
 "cells": [
  {
   "cell_type": "code",
   "execution_count": 3,
   "metadata": {},
   "outputs": [],
   "source": [
    "#Este archivo es un webscrapping de la empresa de ropa HyM \n",
    "\n",
    "import requests\n",
    "import re\n",
    "import pandas as pd\n",
    "import numpy as np\n",
    "from selenium import webdriver\n",
    "from webdriver_manager.chrome import ChromeDriverManager\n",
    "import requests\n",
    "import time\n",
    "import pdb\n",
    "import datetime\n",
    "from bs4 import BeautifulSoup as bs\n",
    "from selenium.webdriver.common.by import By\n"
   ]
  },
  {
   "cell_type": "code",
   "execution_count": 5,
   "metadata": {},
   "outputs": [
    {
     "name": "stderr",
     "output_type": "stream",
     "text": [
      "/var/folders/7w/8qf5bbc50jq9d08zwwpw3z900000gn/T/ipykernel_36479/379832249.py:5: DeprecationWarning: executable_path has been deprecated, please pass in a Service object\n",
      "  driver = webdriver.Chrome(ChromeDriverManager().install())\n"
     ]
    },
    {
     "ename": "WebDriverException",
     "evalue": "Message: Service /Users/david/.wdm/drivers/chromedriver/mac_arm64/109.0.5414/chromedriver unexpectedly exited. Status code was: -9\n",
     "output_type": "error",
     "traceback": [
      "\u001b[0;31m---------------------------------------------------------------------------\u001b[0m",
      "\u001b[0;31mWebDriverException\u001b[0m                        Traceback (most recent call last)",
      "Cell \u001b[0;32mIn[5], line 5\u001b[0m\n\u001b[1;32m      3\u001b[0m options\u001b[39m.\u001b[39madd_argument(\u001b[39m'\u001b[39m\u001b[39m--ignore-certificate-errors\u001b[39m\u001b[39m'\u001b[39m)\n\u001b[1;32m      4\u001b[0m options\u001b[39m.\u001b[39madd_experimental_option(\u001b[39m\"\u001b[39m\u001b[39mexcludeSwitches\u001b[39m\u001b[39m\"\u001b[39m, [\u001b[39m\"\u001b[39m\u001b[39menable-logging\u001b[39m\u001b[39m\"\u001b[39m])\n\u001b[0;32m----> 5\u001b[0m driver \u001b[39m=\u001b[39m webdriver\u001b[39m.\u001b[39;49mChrome(ChromeDriverManager()\u001b[39m.\u001b[39;49minstall())\n",
      "File \u001b[0;32m~/Documents/Webscrapping/venv/lib/python3.9/site-packages/selenium/webdriver/chrome/webdriver.py:80\u001b[0m, in \u001b[0;36mWebDriver.__init__\u001b[0;34m(self, executable_path, port, options, service_args, desired_capabilities, service_log_path, chrome_options, service, keep_alive)\u001b[0m\n\u001b[1;32m     77\u001b[0m \u001b[39mif\u001b[39;00m \u001b[39mnot\u001b[39;00m service:\n\u001b[1;32m     78\u001b[0m     service \u001b[39m=\u001b[39m Service(executable_path, port, service_args, service_log_path)\n\u001b[0;32m---> 80\u001b[0m \u001b[39msuper\u001b[39;49m()\u001b[39m.\u001b[39;49m\u001b[39m__init__\u001b[39;49m(\n\u001b[1;32m     81\u001b[0m     DesiredCapabilities\u001b[39m.\u001b[39;49mCHROME[\u001b[39m\"\u001b[39;49m\u001b[39mbrowserName\u001b[39;49m\u001b[39m\"\u001b[39;49m],\n\u001b[1;32m     82\u001b[0m     \u001b[39m\"\u001b[39;49m\u001b[39mgoog\u001b[39;49m\u001b[39m\"\u001b[39;49m,\n\u001b[1;32m     83\u001b[0m     port,\n\u001b[1;32m     84\u001b[0m     options,\n\u001b[1;32m     85\u001b[0m     service_args,\n\u001b[1;32m     86\u001b[0m     desired_capabilities,\n\u001b[1;32m     87\u001b[0m     service_log_path,\n\u001b[1;32m     88\u001b[0m     service,\n\u001b[1;32m     89\u001b[0m     keep_alive,\n\u001b[1;32m     90\u001b[0m )\n",
      "File \u001b[0;32m~/Documents/Webscrapping/venv/lib/python3.9/site-packages/selenium/webdriver/chromium/webdriver.py:101\u001b[0m, in \u001b[0;36mChromiumDriver.__init__\u001b[0;34m(self, browser_name, vendor_prefix, port, options, service_args, desired_capabilities, service_log_path, service, keep_alive)\u001b[0m\n\u001b[1;32m     98\u001b[0m     \u001b[39mraise\u001b[39;00m \u001b[39mAttributeError\u001b[39;00m(\u001b[39m\"\u001b[39m\u001b[39mservice cannot be None\u001b[39m\u001b[39m\"\u001b[39m)\n\u001b[1;32m    100\u001b[0m \u001b[39mself\u001b[39m\u001b[39m.\u001b[39mservice \u001b[39m=\u001b[39m service\n\u001b[0;32m--> 101\u001b[0m \u001b[39mself\u001b[39;49m\u001b[39m.\u001b[39;49mservice\u001b[39m.\u001b[39;49mstart()\n\u001b[1;32m    103\u001b[0m \u001b[39mtry\u001b[39;00m:\n\u001b[1;32m    104\u001b[0m     \u001b[39msuper\u001b[39m()\u001b[39m.\u001b[39m\u001b[39m__init__\u001b[39m(\n\u001b[1;32m    105\u001b[0m         command_executor\u001b[39m=\u001b[39mChromiumRemoteConnection(\n\u001b[1;32m    106\u001b[0m             remote_server_addr\u001b[39m=\u001b[39m\u001b[39mself\u001b[39m\u001b[39m.\u001b[39mservice\u001b[39m.\u001b[39mservice_url,\n\u001b[0;32m   (...)\u001b[0m\n\u001b[1;32m    112\u001b[0m         options\u001b[39m=\u001b[39moptions,\n\u001b[1;32m    113\u001b[0m     )\n",
      "File \u001b[0;32m~/Documents/Webscrapping/venv/lib/python3.9/site-packages/selenium/webdriver/common/service.py:104\u001b[0m, in \u001b[0;36mService.start\u001b[0;34m(self)\u001b[0m\n\u001b[1;32m    102\u001b[0m count \u001b[39m=\u001b[39m \u001b[39m0\u001b[39m\n\u001b[1;32m    103\u001b[0m \u001b[39mwhile\u001b[39;00m \u001b[39mTrue\u001b[39;00m:\n\u001b[0;32m--> 104\u001b[0m     \u001b[39mself\u001b[39;49m\u001b[39m.\u001b[39;49massert_process_still_running()\n\u001b[1;32m    105\u001b[0m     \u001b[39mif\u001b[39;00m \u001b[39mself\u001b[39m\u001b[39m.\u001b[39mis_connectable():\n\u001b[1;32m    106\u001b[0m         \u001b[39mbreak\u001b[39;00m\n",
      "File \u001b[0;32m~/Documents/Webscrapping/venv/lib/python3.9/site-packages/selenium/webdriver/common/service.py:117\u001b[0m, in \u001b[0;36mService.assert_process_still_running\u001b[0;34m(self)\u001b[0m\n\u001b[1;32m    115\u001b[0m return_code \u001b[39m=\u001b[39m \u001b[39mself\u001b[39m\u001b[39m.\u001b[39mprocess\u001b[39m.\u001b[39mpoll()\n\u001b[1;32m    116\u001b[0m \u001b[39mif\u001b[39;00m return_code:\n\u001b[0;32m--> 117\u001b[0m     \u001b[39mraise\u001b[39;00m WebDriverException(\u001b[39mf\u001b[39m\u001b[39m\"\u001b[39m\u001b[39mService \u001b[39m\u001b[39m{\u001b[39;00m\u001b[39mself\u001b[39m\u001b[39m.\u001b[39mpath\u001b[39m}\u001b[39;00m\u001b[39m unexpectedly exited. Status code was: \u001b[39m\u001b[39m{\u001b[39;00mreturn_code\u001b[39m}\u001b[39;00m\u001b[39m\"\u001b[39m)\n",
      "\u001b[0;31mWebDriverException\u001b[0m: Message: Service /Users/david/.wdm/drivers/chromedriver/mac_arm64/109.0.5414/chromedriver unexpectedly exited. Status code was: -9\n"
     ]
    }
   ],
   "source": [
    "url = \"https://co.hm.com/hombre/novedades\"\n",
    "options = webdriver.ChromeOptions()\n",
    "options.add_argument('--ignore-certificate-errors')\n",
    "options.add_experimental_option(\"excludeSwitches\", [\"enable-logging\"])\n",
    "driver = webdriver.Chrome(ChromeDriverManager().install(), options=options)"
   ]
  },
  {
   "cell_type": "code",
   "execution_count": 3,
   "metadata": {},
   "outputs": [],
   "source": [
    "driver.get(url)"
   ]
  },
  {
   "cell_type": "code",
   "execution_count": 4,
   "metadata": {},
   "outputs": [],
   "source": [
    "products_button_path = './/a[@id=\"menu-product\"]'\n",
    "products_button = driver.find_element(By.XPATH, products_button_path)\n",
    "driver.execute_script(\"arguments[0].click();\", products_button)"
   ]
  },
  {
   "cell_type": "code",
   "execution_count": 6,
   "metadata": {},
   "outputs": [],
   "source": [
    "try:\n",
    "    while True:\n",
    "        last_height = driver.execute_script(\"return document.body.scrollHeight\")\n",
    "        driver.execute_script(\"window.scrollTo(0, document.body.scrollHeight);\")\n",
    "        time.sleep(1.5)\n",
    "        load_more_products = './/div[@class=\"vtex-button__label flex items-center justify-center h-100 ph5 \"]'\n",
    "        load_more_products_button = driver.find_element(By.XPATH, load_more_products)\n",
    "        driver.execute_script(\"arguments[0].click();\", load_more_products_button)\n",
    "except: pass\n"
   ]
  },
  {
   "cell_type": "code",
   "execution_count": 7,
   "metadata": {},
   "outputs": [
    {
     "name": "stdout",
     "output_type": "stream",
     "text": [
      "https://hmcolombia.vtexassets.com/arquivos/ids/2259074-600-900?v=1761349225&width=600&height=900&aspect=true\n",
      "https://hmcolombia.vtexassets.com/arquivos/ids/2422691-600-900?v=1761352460&width=600&height=900&aspect=true\n",
      "https://hmcolombia.vtexassets.com/arquivos/ids/2156953-600-900?v=1761297808&width=600&height=900&aspect=true\n",
      "https://hmcolombia.vtexassets.com/arquivos/ids/2222781-600-900?v=1761297395&width=600&height=900&aspect=true\n",
      "https://hmcolombia.vtexassets.com/arquivos/ids/1942479-600-900?v=1761352390&width=600&height=900&aspect=true\n",
      "https://hmcolombia.vtexassets.com/arquivos/ids/2310236-600-900?v=1761298582&width=600&height=900&aspect=true\n",
      "https://hmcolombia.vtexassets.com/arquivos/ids/1942473-600-900?v=1761258001&width=600&height=900&aspect=true\n",
      "https://hmcolombia.vtexassets.com/arquivos/ids/2387897-600-900?v=1761349672&width=600&height=900&aspect=true\n"
     ]
    },
    {
     "ename": "NoSuchElementException",
     "evalue": "Message: no such element: Unable to locate element: {\"method\":\"xpath\",\"selector\":\".//a[@class = \"vtex-product-summary-2-x-clearLink vtex-product-summary-2-x-clearLink--grilla h-100 flex flex-column\"]\"}\n  (Session info: chrome=109.0.5414.119)\nStacktrace:\n0   chromedriver                        0x0000000102c0b0fc chromedriver + 4223228\n1   chromedriver                        0x0000000102b93284 chromedriver + 3732100\n2   chromedriver                        0x00000001028475c8 chromedriver + 275912\n3   chromedriver                        0x00000001028831b8 chromedriver + 520632\n4   chromedriver                        0x0000000102876ffc chromedriver + 471036\n5   chromedriver                        0x00000001028bb360 chromedriver + 750432\n6   chromedriver                        0x0000000102875748 chromedriver + 464712\n7   chromedriver                        0x00000001028767f0 chromedriver + 468976\n8   chromedriver                        0x0000000102bdbe08 chromedriver + 4029960\n9   chromedriver                        0x0000000102bdf698 chromedriver + 4044440\n10  chromedriver                        0x0000000102bdfcc0 chromedriver + 4046016\n11  chromedriver                        0x0000000102be64c4 chromedriver + 4072644\n12  chromedriver                        0x0000000102be036c chromedriver + 4047724\n13  chromedriver                        0x0000000102bb8bd8 chromedriver + 3886040\n14  chromedriver                        0x0000000102bfcefc chromedriver + 4165372\n15  chromedriver                        0x0000000102bfd050 chromedriver + 4165712\n16  chromedriver                        0x0000000102c11e20 chromedriver + 4251168\n17  libsystem_pthread.dylib             0x000000018cda606c _pthread_start + 148\n18  libsystem_pthread.dylib             0x000000018cda0e2c thread_start + 8\n",
     "output_type": "error",
     "traceback": [
      "\u001b[0;31m---------------------------------------------------------------------------\u001b[0m",
      "\u001b[0;31mNoSuchElementException\u001b[0m                    Traceback (most recent call last)",
      "Cell \u001b[0;32mIn[7], line 7\u001b[0m\n\u001b[1;32m      4\u001b[0m \u001b[39mfor\u001b[39;00m element \u001b[39min\u001b[39;00m grilla:\n\u001b[1;32m      5\u001b[0m   \u001b[39m# ================== 1. Item ================== #\u001b[39;00m\n\u001b[1;32m      6\u001b[0m   path_item \u001b[39m=\u001b[39m \u001b[39m'\u001b[39m\u001b[39m.//a[@class = \u001b[39m\u001b[39m\"\u001b[39m\u001b[39mvtex-product-summary-2-x-clearLink vtex-product-summary-2-x-clearLink--grilla h-100 flex flex-column\u001b[39m\u001b[39m\"\u001b[39m\u001b[39m]\u001b[39m\u001b[39m'\u001b[39m\n\u001b[0;32m----> 7\u001b[0m   item \u001b[39m=\u001b[39m element\u001b[39m.\u001b[39;49mfind_element(By\u001b[39m.\u001b[39;49mXPATH, path_item)\u001b[39m.\u001b[39mget_attribute(\u001b[39m'\u001b[39m\u001b[39mhref\u001b[39m\u001b[39m'\u001b[39m)\n\u001b[1;32m      8\u001b[0m   \u001b[39m# ================== 2. Foto ================== #\u001b[39;00m\n\u001b[1;32m      9\u001b[0m   path_foto \u001b[39m=\u001b[39m \u001b[39m'\u001b[39m\u001b[39m.//div[@class=\u001b[39m\u001b[39m\"\u001b[39m\u001b[39mdib relative vtex-product-summary-2-x-imageContainer vtex-product-summary-2-x-imageContainer--commonImage vtex-product-summary-2-x-imageStackContainer vtex-product-summary-2-x-hoverEffect\u001b[39m\u001b[39m\"\u001b[39m\u001b[39m]/img\u001b[39m\u001b[39m'\u001b[39m\n",
      "File \u001b[0;32m~/Documents/Webscrapping/venv/lib/python3.9/site-packages/selenium/webdriver/remote/webelement.py:425\u001b[0m, in \u001b[0;36mWebElement.find_element\u001b[0;34m(self, by, value)\u001b[0m\n\u001b[1;32m    422\u001b[0m     by \u001b[39m=\u001b[39m By\u001b[39m.\u001b[39mCSS_SELECTOR\n\u001b[1;32m    423\u001b[0m     value \u001b[39m=\u001b[39m \u001b[39mf\u001b[39m\u001b[39m'\u001b[39m\u001b[39m[name=\u001b[39m\u001b[39m\"\u001b[39m\u001b[39m{\u001b[39;00mvalue\u001b[39m}\u001b[39;00m\u001b[39m\"\u001b[39m\u001b[39m]\u001b[39m\u001b[39m'\u001b[39m\n\u001b[0;32m--> 425\u001b[0m \u001b[39mreturn\u001b[39;00m \u001b[39mself\u001b[39;49m\u001b[39m.\u001b[39;49m_execute(Command\u001b[39m.\u001b[39;49mFIND_CHILD_ELEMENT, {\u001b[39m\"\u001b[39;49m\u001b[39musing\u001b[39;49m\u001b[39m\"\u001b[39;49m: by, \u001b[39m\"\u001b[39;49m\u001b[39mvalue\u001b[39;49m\u001b[39m\"\u001b[39;49m: value})[\u001b[39m\"\u001b[39m\u001b[39mvalue\u001b[39m\u001b[39m\"\u001b[39m]\n",
      "File \u001b[0;32m~/Documents/Webscrapping/venv/lib/python3.9/site-packages/selenium/webdriver/remote/webelement.py:403\u001b[0m, in \u001b[0;36mWebElement._execute\u001b[0;34m(self, command, params)\u001b[0m\n\u001b[1;32m    401\u001b[0m     params \u001b[39m=\u001b[39m {}\n\u001b[1;32m    402\u001b[0m params[\u001b[39m\"\u001b[39m\u001b[39mid\u001b[39m\u001b[39m\"\u001b[39m] \u001b[39m=\u001b[39m \u001b[39mself\u001b[39m\u001b[39m.\u001b[39m_id\n\u001b[0;32m--> 403\u001b[0m \u001b[39mreturn\u001b[39;00m \u001b[39mself\u001b[39;49m\u001b[39m.\u001b[39;49m_parent\u001b[39m.\u001b[39;49mexecute(command, params)\n",
      "File \u001b[0;32m~/Documents/Webscrapping/venv/lib/python3.9/site-packages/selenium/webdriver/remote/webdriver.py:440\u001b[0m, in \u001b[0;36mWebDriver.execute\u001b[0;34m(self, driver_command, params)\u001b[0m\n\u001b[1;32m    438\u001b[0m response \u001b[39m=\u001b[39m \u001b[39mself\u001b[39m\u001b[39m.\u001b[39mcommand_executor\u001b[39m.\u001b[39mexecute(driver_command, params)\n\u001b[1;32m    439\u001b[0m \u001b[39mif\u001b[39;00m response:\n\u001b[0;32m--> 440\u001b[0m     \u001b[39mself\u001b[39;49m\u001b[39m.\u001b[39;49merror_handler\u001b[39m.\u001b[39;49mcheck_response(response)\n\u001b[1;32m    441\u001b[0m     response[\u001b[39m\"\u001b[39m\u001b[39mvalue\u001b[39m\u001b[39m\"\u001b[39m] \u001b[39m=\u001b[39m \u001b[39mself\u001b[39m\u001b[39m.\u001b[39m_unwrap_value(response\u001b[39m.\u001b[39mget(\u001b[39m\"\u001b[39m\u001b[39mvalue\u001b[39m\u001b[39m\"\u001b[39m, \u001b[39mNone\u001b[39;00m))\n\u001b[1;32m    442\u001b[0m     \u001b[39mreturn\u001b[39;00m response\n",
      "File \u001b[0;32m~/Documents/Webscrapping/venv/lib/python3.9/site-packages/selenium/webdriver/remote/errorhandler.py:245\u001b[0m, in \u001b[0;36mErrorHandler.check_response\u001b[0;34m(self, response)\u001b[0m\n\u001b[1;32m    243\u001b[0m         alert_text \u001b[39m=\u001b[39m value[\u001b[39m\"\u001b[39m\u001b[39malert\u001b[39m\u001b[39m\"\u001b[39m]\u001b[39m.\u001b[39mget(\u001b[39m\"\u001b[39m\u001b[39mtext\u001b[39m\u001b[39m\"\u001b[39m)\n\u001b[1;32m    244\u001b[0m     \u001b[39mraise\u001b[39;00m exception_class(message, screen, stacktrace, alert_text)  \u001b[39m# type: ignore[call-arg]  # mypy is not smart enough here\u001b[39;00m\n\u001b[0;32m--> 245\u001b[0m \u001b[39mraise\u001b[39;00m exception_class(message, screen, stacktrace)\n",
      "\u001b[0;31mNoSuchElementException\u001b[0m: Message: no such element: Unable to locate element: {\"method\":\"xpath\",\"selector\":\".//a[@class = \"vtex-product-summary-2-x-clearLink vtex-product-summary-2-x-clearLink--grilla h-100 flex flex-column\"]\"}\n  (Session info: chrome=109.0.5414.119)\nStacktrace:\n0   chromedriver                        0x0000000102c0b0fc chromedriver + 4223228\n1   chromedriver                        0x0000000102b93284 chromedriver + 3732100\n2   chromedriver                        0x00000001028475c8 chromedriver + 275912\n3   chromedriver                        0x00000001028831b8 chromedriver + 520632\n4   chromedriver                        0x0000000102876ffc chromedriver + 471036\n5   chromedriver                        0x00000001028bb360 chromedriver + 750432\n6   chromedriver                        0x0000000102875748 chromedriver + 464712\n7   chromedriver                        0x00000001028767f0 chromedriver + 468976\n8   chromedriver                        0x0000000102bdbe08 chromedriver + 4029960\n9   chromedriver                        0x0000000102bdf698 chromedriver + 4044440\n10  chromedriver                        0x0000000102bdfcc0 chromedriver + 4046016\n11  chromedriver                        0x0000000102be64c4 chromedriver + 4072644\n12  chromedriver                        0x0000000102be036c chromedriver + 4047724\n13  chromedriver                        0x0000000102bb8bd8 chromedriver + 3886040\n14  chromedriver                        0x0000000102bfcefc chromedriver + 4165372\n15  chromedriver                        0x0000000102bfd050 chromedriver + 4165712\n16  chromedriver                        0x0000000102c11e20 chromedriver + 4251168\n17  libsystem_pthread.dylib             0x000000018cda606c _pthread_start + 148\n18  libsystem_pthread.dylib             0x000000018cda0e2c thread_start + 8\n"
     ]
    }
   ],
   "source": [
    "grilla = driver.find_elements(By.XPATH, '//div[@id=\"gallery-layout-container\"]/div')\n",
    "\n",
    "dict_final = {}\n",
    "for element in grilla:\n",
    "  # ================== 1. Item ================== #\n",
    "  path_item = './/a[@class = \"vtex-product-summary-2-x-clearLink vtex-product-summary-2-x-clearLink--grilla h-100 flex flex-column\"]'\n",
    "  item = element.find_element(By.XPATH, path_item).get_attribute('href')\n",
    "  # ================== 2. Foto ================== #\n",
    "  path_foto = './/div[@class=\"dib relative vtex-product-summary-2-x-imageContainer vtex-product-summary-2-x-imageContainer--commonImage vtex-product-summary-2-x-imageStackContainer vtex-product-summary-2-x-hoverEffect\"]/img'\n",
    "  foto = element.find_element(By.XPATH, path_foto).get_attribute('src')\n",
    "  # ================== 3. Nombre ================== #\n",
    "  path_nombre = './/span[@class=\"vtex-product-summary-2-x-productBrand vtex-product-summary-2-x-brandName t-body\"]'\n",
    "  nombre = element.find_element(By.XPATH, path_nombre).text\n",
    "  # ================== 4. Precio actual ================== #\n",
    "  try:\n",
    "    path_precio_actual_1 = './/span[@class=\"vtex-product-price-1-x-currencyInteger vtex-product-price-1-x-currencyInteger--newlistPrice\"][1]'\n",
    "    precio_actual_1 = element.find_element(By.XPATH, path_precio_actual_1).text\n",
    "    path_precio_actual_2 = './/span[@class=\"vtex-product-price-1-x-currencyInteger vtex-product-price-1-x-currencyInteger--newlistPrice\"][2]'\n",
    "    precio_actual_2 = element.find_element(By.XPATH, path_precio_actual_2).text\n",
    "    # ================== 5. Precio anterior ================== #\n",
    "    path_precio_anterior_1 = './/span[@class=\"vtex-product-price-1-x-currencyInteger vtex-product-price-1-x-currencyInteger--bestPrice\"][1]'\n",
    "    precio_anterior_1 = element.find_element(By.XPATH, path_precio_anterior_1).text\n",
    "    path_precio_anterior_2 = './/span[@class=\"vtex-product-price-1-x-currencyInteger vtex-product-price-1-x-currencyInteger--bestPrice\"][2]'\n",
    "    precio_anterior_2 = element.find_element(By.XPATH, path_precio_anterior_2).text\n",
    "    # ================== 6. Descuento ================== #\n",
    "    path_descuento = './/p[@class=\"hmchile-catalog-discount-0-x-discount_grilla\"]'\n",
    "    descuento = element.find_element(By.XPATH, path_descuento).text\n",
    "  except: continue\n",
    "  print(foto)\n",
    "\n",
    "  dict_final[element] = {\n",
    "      'item': item,\n",
    "      'foto': foto,\n",
    "      'nombre': nombre,\n",
    "      'precio_actual_1': precio_actual_1 + precio_actual_2,\n",
    "      'precio_anterior_1': precio_anterior_1 + precio_anterior_2,\n",
    "      'descuento': descuento,\n",
    "      'fecha': datetime.datetime.now(),\n",
    "  }\n"
   ]
  },
  {
   "cell_type": "code",
   "execution_count": 10,
   "metadata": {},
   "outputs": [
    {
     "ename": "NoSuchElementException",
     "evalue": "Message: no such element: Unable to locate element: {\"method\":\"xpath\",\"selector\":\".//a[@class = \"vtex-product-summary-2-x-clearLink vtex-product-summary-2-x-clearLink--grilla h-100 flex flex-column\"]\"}\n  (Session info: chrome=109.0.5414.119)\nStacktrace:\n0   chromedriver                        0x0000000102c0b0fc chromedriver + 4223228\n1   chromedriver                        0x0000000102b93284 chromedriver + 3732100\n2   chromedriver                        0x00000001028475c8 chromedriver + 275912\n3   chromedriver                        0x00000001028831b8 chromedriver + 520632\n4   chromedriver                        0x0000000102876ffc chromedriver + 471036\n5   chromedriver                        0x00000001028bb360 chromedriver + 750432\n6   chromedriver                        0x0000000102875748 chromedriver + 464712\n7   chromedriver                        0x00000001028767f0 chromedriver + 468976\n8   chromedriver                        0x0000000102bdbe08 chromedriver + 4029960\n9   chromedriver                        0x0000000102bdf698 chromedriver + 4044440\n10  chromedriver                        0x0000000102bdfcc0 chromedriver + 4046016\n11  chromedriver                        0x0000000102be64c4 chromedriver + 4072644\n12  chromedriver                        0x0000000102be036c chromedriver + 4047724\n13  chromedriver                        0x0000000102bb8bd8 chromedriver + 3886040\n14  chromedriver                        0x0000000102bfcefc chromedriver + 4165372\n15  chromedriver                        0x0000000102bfd050 chromedriver + 4165712\n16  chromedriver                        0x0000000102c11e20 chromedriver + 4251168\n17  libsystem_pthread.dylib             0x000000018cda606c _pthread_start + 148\n18  libsystem_pthread.dylib             0x000000018cda0e2c thread_start + 8\n",
     "output_type": "error",
     "traceback": [
      "\u001b[0;31m---------------------------------------------------------------------------\u001b[0m",
      "\u001b[0;31mNoSuchElementException\u001b[0m                    Traceback (most recent call last)",
      "Cell \u001b[0;32mIn[10], line 1\u001b[0m\n\u001b[0;32m----> 1\u001b[0m item \u001b[39m=\u001b[39m element\u001b[39m.\u001b[39;49mfind_element(By\u001b[39m.\u001b[39;49mXPATH, path_item)\n",
      "File \u001b[0;32m~/Documents/Webscrapping/venv/lib/python3.9/site-packages/selenium/webdriver/remote/webelement.py:425\u001b[0m, in \u001b[0;36mWebElement.find_element\u001b[0;34m(self, by, value)\u001b[0m\n\u001b[1;32m    422\u001b[0m     by \u001b[39m=\u001b[39m By\u001b[39m.\u001b[39mCSS_SELECTOR\n\u001b[1;32m    423\u001b[0m     value \u001b[39m=\u001b[39m \u001b[39mf\u001b[39m\u001b[39m'\u001b[39m\u001b[39m[name=\u001b[39m\u001b[39m\"\u001b[39m\u001b[39m{\u001b[39;00mvalue\u001b[39m}\u001b[39;00m\u001b[39m\"\u001b[39m\u001b[39m]\u001b[39m\u001b[39m'\u001b[39m\n\u001b[0;32m--> 425\u001b[0m \u001b[39mreturn\u001b[39;00m \u001b[39mself\u001b[39;49m\u001b[39m.\u001b[39;49m_execute(Command\u001b[39m.\u001b[39;49mFIND_CHILD_ELEMENT, {\u001b[39m\"\u001b[39;49m\u001b[39musing\u001b[39;49m\u001b[39m\"\u001b[39;49m: by, \u001b[39m\"\u001b[39;49m\u001b[39mvalue\u001b[39;49m\u001b[39m\"\u001b[39;49m: value})[\u001b[39m\"\u001b[39m\u001b[39mvalue\u001b[39m\u001b[39m\"\u001b[39m]\n",
      "File \u001b[0;32m~/Documents/Webscrapping/venv/lib/python3.9/site-packages/selenium/webdriver/remote/webelement.py:403\u001b[0m, in \u001b[0;36mWebElement._execute\u001b[0;34m(self, command, params)\u001b[0m\n\u001b[1;32m    401\u001b[0m     params \u001b[39m=\u001b[39m {}\n\u001b[1;32m    402\u001b[0m params[\u001b[39m\"\u001b[39m\u001b[39mid\u001b[39m\u001b[39m\"\u001b[39m] \u001b[39m=\u001b[39m \u001b[39mself\u001b[39m\u001b[39m.\u001b[39m_id\n\u001b[0;32m--> 403\u001b[0m \u001b[39mreturn\u001b[39;00m \u001b[39mself\u001b[39;49m\u001b[39m.\u001b[39;49m_parent\u001b[39m.\u001b[39;49mexecute(command, params)\n",
      "File \u001b[0;32m~/Documents/Webscrapping/venv/lib/python3.9/site-packages/selenium/webdriver/remote/webdriver.py:440\u001b[0m, in \u001b[0;36mWebDriver.execute\u001b[0;34m(self, driver_command, params)\u001b[0m\n\u001b[1;32m    438\u001b[0m response \u001b[39m=\u001b[39m \u001b[39mself\u001b[39m\u001b[39m.\u001b[39mcommand_executor\u001b[39m.\u001b[39mexecute(driver_command, params)\n\u001b[1;32m    439\u001b[0m \u001b[39mif\u001b[39;00m response:\n\u001b[0;32m--> 440\u001b[0m     \u001b[39mself\u001b[39;49m\u001b[39m.\u001b[39;49merror_handler\u001b[39m.\u001b[39;49mcheck_response(response)\n\u001b[1;32m    441\u001b[0m     response[\u001b[39m\"\u001b[39m\u001b[39mvalue\u001b[39m\u001b[39m\"\u001b[39m] \u001b[39m=\u001b[39m \u001b[39mself\u001b[39m\u001b[39m.\u001b[39m_unwrap_value(response\u001b[39m.\u001b[39mget(\u001b[39m\"\u001b[39m\u001b[39mvalue\u001b[39m\u001b[39m\"\u001b[39m, \u001b[39mNone\u001b[39;00m))\n\u001b[1;32m    442\u001b[0m     \u001b[39mreturn\u001b[39;00m response\n",
      "File \u001b[0;32m~/Documents/Webscrapping/venv/lib/python3.9/site-packages/selenium/webdriver/remote/errorhandler.py:245\u001b[0m, in \u001b[0;36mErrorHandler.check_response\u001b[0;34m(self, response)\u001b[0m\n\u001b[1;32m    243\u001b[0m         alert_text \u001b[39m=\u001b[39m value[\u001b[39m\"\u001b[39m\u001b[39malert\u001b[39m\u001b[39m\"\u001b[39m]\u001b[39m.\u001b[39mget(\u001b[39m\"\u001b[39m\u001b[39mtext\u001b[39m\u001b[39m\"\u001b[39m)\n\u001b[1;32m    244\u001b[0m     \u001b[39mraise\u001b[39;00m exception_class(message, screen, stacktrace, alert_text)  \u001b[39m# type: ignore[call-arg]  # mypy is not smart enough here\u001b[39;00m\n\u001b[0;32m--> 245\u001b[0m \u001b[39mraise\u001b[39;00m exception_class(message, screen, stacktrace)\n",
      "\u001b[0;31mNoSuchElementException\u001b[0m: Message: no such element: Unable to locate element: {\"method\":\"xpath\",\"selector\":\".//a[@class = \"vtex-product-summary-2-x-clearLink vtex-product-summary-2-x-clearLink--grilla h-100 flex flex-column\"]\"}\n  (Session info: chrome=109.0.5414.119)\nStacktrace:\n0   chromedriver                        0x0000000102c0b0fc chromedriver + 4223228\n1   chromedriver                        0x0000000102b93284 chromedriver + 3732100\n2   chromedriver                        0x00000001028475c8 chromedriver + 275912\n3   chromedriver                        0x00000001028831b8 chromedriver + 520632\n4   chromedriver                        0x0000000102876ffc chromedriver + 471036\n5   chromedriver                        0x00000001028bb360 chromedriver + 750432\n6   chromedriver                        0x0000000102875748 chromedriver + 464712\n7   chromedriver                        0x00000001028767f0 chromedriver + 468976\n8   chromedriver                        0x0000000102bdbe08 chromedriver + 4029960\n9   chromedriver                        0x0000000102bdf698 chromedriver + 4044440\n10  chromedriver                        0x0000000102bdfcc0 chromedriver + 4046016\n11  chromedriver                        0x0000000102be64c4 chromedriver + 4072644\n12  chromedriver                        0x0000000102be036c chromedriver + 4047724\n13  chromedriver                        0x0000000102bb8bd8 chromedriver + 3886040\n14  chromedriver                        0x0000000102bfcefc chromedriver + 4165372\n15  chromedriver                        0x0000000102bfd050 chromedriver + 4165712\n16  chromedriver                        0x0000000102c11e20 chromedriver + 4251168\n17  libsystem_pthread.dylib             0x000000018cda606c _pthread_start + 148\n18  libsystem_pthread.dylib             0x000000018cda0e2c thread_start + 8\n"
     ]
    }
   ],
   "source": [
    "item = element.find_element(By.XPATH, path_item)"
   ]
  },
  {
   "cell_type": "code",
   "execution_count": 11,
   "metadata": {},
   "outputs": [
    {
     "data": {
      "text/plain": [
       "'.//a[@class = \"vtex-product-summary-2-x-clearLink vtex-product-summary-2-x-clearLink--grilla h-100 flex flex-column\"]'"
      ]
     },
     "execution_count": 11,
     "metadata": {},
     "output_type": "execute_result"
    }
   ],
   "source": [
    "path_item"
   ]
  },
  {
   "cell_type": "code",
   "execution_count": 12,
   "metadata": {},
   "outputs": [
    {
     "data": {
      "text/plain": [
       "<selenium.webdriver.remote.webelement.WebElement (session=\"765fd7c58035f2bd43381827eb0c2fa7\", element=\"c8351c55-2c4c-4dd8-9a11-fd28e42e0f19\")>"
      ]
     },
     "execution_count": 12,
     "metadata": {},
     "output_type": "execute_result"
    }
   ],
   "source": [
    "element"
   ]
  },
  {
   "cell_type": "code",
   "execution_count": 13,
   "metadata": {},
   "outputs": [
    {
     "ename": "NoSuchElementException",
     "evalue": "Message: no such element: Unable to locate element: {\"method\":\"xpath\",\"selector\":\".//div[@class=\"dib relative vtex-product-summary-2-x-imageContainer vtex-product-summary-2-x-imageContainer--commonImage vtex-product-summary-2-x-imageStackContainer vtex-product-summary-2-x-hoverEffect\"]/img\"}\n  (Session info: chrome=109.0.5414.119)\nStacktrace:\n0   chromedriver                        0x0000000102c0b0fc chromedriver + 4223228\n1   chromedriver                        0x0000000102b93284 chromedriver + 3732100\n2   chromedriver                        0x00000001028475c8 chromedriver + 275912\n3   chromedriver                        0x00000001028831b8 chromedriver + 520632\n4   chromedriver                        0x0000000102876ffc chromedriver + 471036\n5   chromedriver                        0x00000001028bb360 chromedriver + 750432\n6   chromedriver                        0x0000000102875748 chromedriver + 464712\n7   chromedriver                        0x00000001028767f0 chromedriver + 468976\n8   chromedriver                        0x0000000102bdbe08 chromedriver + 4029960\n9   chromedriver                        0x0000000102bdf698 chromedriver + 4044440\n10  chromedriver                        0x0000000102bdfcc0 chromedriver + 4046016\n11  chromedriver                        0x0000000102be64c4 chromedriver + 4072644\n12  chromedriver                        0x0000000102be036c chromedriver + 4047724\n13  chromedriver                        0x0000000102bb8bd8 chromedriver + 3886040\n14  chromedriver                        0x0000000102bfcefc chromedriver + 4165372\n15  chromedriver                        0x0000000102bfd050 chromedriver + 4165712\n16  chromedriver                        0x0000000102c11e20 chromedriver + 4251168\n17  libsystem_pthread.dylib             0x000000018cda606c _pthread_start + 148\n18  libsystem_pthread.dylib             0x000000018cda0e2c thread_start + 8\n",
     "output_type": "error",
     "traceback": [
      "\u001b[0;31m---------------------------------------------------------------------------\u001b[0m",
      "\u001b[0;31mNoSuchElementException\u001b[0m                    Traceback (most recent call last)",
      "Cell \u001b[0;32mIn[13], line 1\u001b[0m\n\u001b[0;32m----> 1\u001b[0m element\u001b[39m.\u001b[39;49mfind_element(By\u001b[39m.\u001b[39;49mXPATH, path_foto)\u001b[39m.\u001b[39mget_attribute(\u001b[39m'\u001b[39m\u001b[39msrc\u001b[39m\u001b[39m'\u001b[39m)\n",
      "File \u001b[0;32m~/Documents/Webscrapping/venv/lib/python3.9/site-packages/selenium/webdriver/remote/webelement.py:425\u001b[0m, in \u001b[0;36mWebElement.find_element\u001b[0;34m(self, by, value)\u001b[0m\n\u001b[1;32m    422\u001b[0m     by \u001b[39m=\u001b[39m By\u001b[39m.\u001b[39mCSS_SELECTOR\n\u001b[1;32m    423\u001b[0m     value \u001b[39m=\u001b[39m \u001b[39mf\u001b[39m\u001b[39m'\u001b[39m\u001b[39m[name=\u001b[39m\u001b[39m\"\u001b[39m\u001b[39m{\u001b[39;00mvalue\u001b[39m}\u001b[39;00m\u001b[39m\"\u001b[39m\u001b[39m]\u001b[39m\u001b[39m'\u001b[39m\n\u001b[0;32m--> 425\u001b[0m \u001b[39mreturn\u001b[39;00m \u001b[39mself\u001b[39;49m\u001b[39m.\u001b[39;49m_execute(Command\u001b[39m.\u001b[39;49mFIND_CHILD_ELEMENT, {\u001b[39m\"\u001b[39;49m\u001b[39musing\u001b[39;49m\u001b[39m\"\u001b[39;49m: by, \u001b[39m\"\u001b[39;49m\u001b[39mvalue\u001b[39;49m\u001b[39m\"\u001b[39;49m: value})[\u001b[39m\"\u001b[39m\u001b[39mvalue\u001b[39m\u001b[39m\"\u001b[39m]\n",
      "File \u001b[0;32m~/Documents/Webscrapping/venv/lib/python3.9/site-packages/selenium/webdriver/remote/webelement.py:403\u001b[0m, in \u001b[0;36mWebElement._execute\u001b[0;34m(self, command, params)\u001b[0m\n\u001b[1;32m    401\u001b[0m     params \u001b[39m=\u001b[39m {}\n\u001b[1;32m    402\u001b[0m params[\u001b[39m\"\u001b[39m\u001b[39mid\u001b[39m\u001b[39m\"\u001b[39m] \u001b[39m=\u001b[39m \u001b[39mself\u001b[39m\u001b[39m.\u001b[39m_id\n\u001b[0;32m--> 403\u001b[0m \u001b[39mreturn\u001b[39;00m \u001b[39mself\u001b[39;49m\u001b[39m.\u001b[39;49m_parent\u001b[39m.\u001b[39;49mexecute(command, params)\n",
      "File \u001b[0;32m~/Documents/Webscrapping/venv/lib/python3.9/site-packages/selenium/webdriver/remote/webdriver.py:440\u001b[0m, in \u001b[0;36mWebDriver.execute\u001b[0;34m(self, driver_command, params)\u001b[0m\n\u001b[1;32m    438\u001b[0m response \u001b[39m=\u001b[39m \u001b[39mself\u001b[39m\u001b[39m.\u001b[39mcommand_executor\u001b[39m.\u001b[39mexecute(driver_command, params)\n\u001b[1;32m    439\u001b[0m \u001b[39mif\u001b[39;00m response:\n\u001b[0;32m--> 440\u001b[0m     \u001b[39mself\u001b[39;49m\u001b[39m.\u001b[39;49merror_handler\u001b[39m.\u001b[39;49mcheck_response(response)\n\u001b[1;32m    441\u001b[0m     response[\u001b[39m\"\u001b[39m\u001b[39mvalue\u001b[39m\u001b[39m\"\u001b[39m] \u001b[39m=\u001b[39m \u001b[39mself\u001b[39m\u001b[39m.\u001b[39m_unwrap_value(response\u001b[39m.\u001b[39mget(\u001b[39m\"\u001b[39m\u001b[39mvalue\u001b[39m\u001b[39m\"\u001b[39m, \u001b[39mNone\u001b[39;00m))\n\u001b[1;32m    442\u001b[0m     \u001b[39mreturn\u001b[39;00m response\n",
      "File \u001b[0;32m~/Documents/Webscrapping/venv/lib/python3.9/site-packages/selenium/webdriver/remote/errorhandler.py:245\u001b[0m, in \u001b[0;36mErrorHandler.check_response\u001b[0;34m(self, response)\u001b[0m\n\u001b[1;32m    243\u001b[0m         alert_text \u001b[39m=\u001b[39m value[\u001b[39m\"\u001b[39m\u001b[39malert\u001b[39m\u001b[39m\"\u001b[39m]\u001b[39m.\u001b[39mget(\u001b[39m\"\u001b[39m\u001b[39mtext\u001b[39m\u001b[39m\"\u001b[39m)\n\u001b[1;32m    244\u001b[0m     \u001b[39mraise\u001b[39;00m exception_class(message, screen, stacktrace, alert_text)  \u001b[39m# type: ignore[call-arg]  # mypy is not smart enough here\u001b[39;00m\n\u001b[0;32m--> 245\u001b[0m \u001b[39mraise\u001b[39;00m exception_class(message, screen, stacktrace)\n",
      "\u001b[0;31mNoSuchElementException\u001b[0m: Message: no such element: Unable to locate element: {\"method\":\"xpath\",\"selector\":\".//div[@class=\"dib relative vtex-product-summary-2-x-imageContainer vtex-product-summary-2-x-imageContainer--commonImage vtex-product-summary-2-x-imageStackContainer vtex-product-summary-2-x-hoverEffect\"]/img\"}\n  (Session info: chrome=109.0.5414.119)\nStacktrace:\n0   chromedriver                        0x0000000102c0b0fc chromedriver + 4223228\n1   chromedriver                        0x0000000102b93284 chromedriver + 3732100\n2   chromedriver                        0x00000001028475c8 chromedriver + 275912\n3   chromedriver                        0x00000001028831b8 chromedriver + 520632\n4   chromedriver                        0x0000000102876ffc chromedriver + 471036\n5   chromedriver                        0x00000001028bb360 chromedriver + 750432\n6   chromedriver                        0x0000000102875748 chromedriver + 464712\n7   chromedriver                        0x00000001028767f0 chromedriver + 468976\n8   chromedriver                        0x0000000102bdbe08 chromedriver + 4029960\n9   chromedriver                        0x0000000102bdf698 chromedriver + 4044440\n10  chromedriver                        0x0000000102bdfcc0 chromedriver + 4046016\n11  chromedriver                        0x0000000102be64c4 chromedriver + 4072644\n12  chromedriver                        0x0000000102be036c chromedriver + 4047724\n13  chromedriver                        0x0000000102bb8bd8 chromedriver + 3886040\n14  chromedriver                        0x0000000102bfcefc chromedriver + 4165372\n15  chromedriver                        0x0000000102bfd050 chromedriver + 4165712\n16  chromedriver                        0x0000000102c11e20 chromedriver + 4251168\n17  libsystem_pthread.dylib             0x000000018cda606c _pthread_start + 148\n18  libsystem_pthread.dylib             0x000000018cda0e2c thread_start + 8\n"
     ]
    }
   ],
   "source": [
    "element.find_element(By.XPATH, path_foto).get_attribute('src')"
   ]
  },
  {
   "cell_type": "code",
   "execution_count": null,
   "metadata": {},
   "outputs": [],
   "source": []
  }
 ],
 "metadata": {
  "kernelspec": {
   "display_name": "Python 3.9.6 ('venv': venv)",
   "language": "python",
   "name": "python3"
  },
  "language_info": {
   "codemirror_mode": {
    "name": "ipython",
    "version": 3
   },
   "file_extension": ".py",
   "mimetype": "text/x-python",
   "name": "python",
   "nbconvert_exporter": "python",
   "pygments_lexer": "ipython3",
   "version": "3.9.6"
  },
  "orig_nbformat": 4,
  "vscode": {
   "interpreter": {
    "hash": "cc41ff7d2af755e2ffbb0cf7ebcd3cf401054f3db0380658bbfaefe9900438cd"
   }
  }
 },
 "nbformat": 4,
 "nbformat_minor": 2
}
