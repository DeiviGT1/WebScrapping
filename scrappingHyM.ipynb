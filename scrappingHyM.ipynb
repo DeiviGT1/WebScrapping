{
 "cells": [
  {
   "cell_type": "code",
   "execution_count": 46,
   "metadata": {},
   "outputs": [],
   "source": [
    "#Este archivo es un webscrapping de la empresa de ropa HyM \n",
    "\n",
    "import requests\n",
    "import re\n",
    "import pandas as pd\n",
    "import numpy as np\n",
    "from selenium import webdriver\n",
    "from webdriver_manager.chrome import ChromeDriverManager\n",
    "import time\n",
    "import pdb\n",
    "from datetime import date\n",
    "from bs4 import BeautifulSoup as bs\n",
    "from selenium.webdriver.common.by import By\n"
   ]
  },
  {
   "cell_type": "code",
   "execution_count": 18,
   "metadata": {},
   "outputs": [
    {
     "name": "stdout",
     "output_type": "stream",
     "text": [
      "\n"
     ]
    },
    {
     "name": "stderr",
     "output_type": "stream",
     "text": [
      "<ipython-input-18-28ad9d4125d9>:5: DeprecationWarning: executable_path has been deprecated, please pass in a Service object\n",
      "  driver = webdriver.Chrome(ChromeDriverManager().install(), options=options)\n"
     ]
    }
   ],
   "source": [
    "url = \"https://co.hm.com/hombre/novedades\"\n",
    "options = webdriver.ChromeOptions()\n",
    "options.add_argument('--ignore-certificate-errors')\n",
    "options.add_experimental_option(\"excludeSwitches\", [\"enable-logging\"])\n",
    "driver = webdriver.Chrome(ChromeDriverManager().install(), options=options)"
   ]
  },
  {
   "cell_type": "code",
   "execution_count": 20,
   "metadata": {},
   "outputs": [],
   "source": [
    "driver.get(url)\n",
    "time.sleep(5)\n",
    "products_button_path = './/a[@id=\"menu-product\"]'\n",
    "products_button = driver.find_element(By.XPATH, products_button_path)\n",
    "driver.execute_script(\"arguments[0].click();\", products_button)"
   ]
  },
  {
   "cell_type": "code",
   "execution_count": 56,
   "metadata": {},
   "outputs": [
    {
     "name": "stdout",
     "output_type": "stream",
     "text": [
      "No hay mas productos\n"
     ]
    }
   ],
   "source": [
    "grilla = driver.find_elements(By.XPATH, '//div[@id=\"gallery-layout-container\"]')\n",
    "n_item = 0\n",
    "dict_item = {}\n",
    "while True:\n",
    "    try:\n",
    "        # ================== Altura ================== #\n",
    "        n_item += 1\n",
    "        x_path = f'//div[@id=\"gallery-layout-container\"]/div[{n_item}]'\n",
    "        altura = driver.find_element(\"xpath\", \n",
    "                    x_path).rect['y']\n",
    "        driver.execute_script(f\"window.scrollTo(0, {altura});\")\n",
    "\n",
    "        # ================== 1. item  ================== #\n",
    "        path_item = f'{x_path}//a[@class = \"vtex-product-summary-2-x-clearLink vtex-product-summary-2-x-clearLink--grilla h-100 flex flex-column\"]'\n",
    "        item = driver.find_element(By.XPATH, \n",
    "                    path_item).get_attribute('href')\n",
    "        \n",
    "        # ================== 2. Foto ================== #\n",
    "        path_foto = f'{x_path}//div[@class=\"dib relative vtex-product-summary-2-x-imageContainer vtex-product-summary-2-x-imageContainer--commonImage vtex-product-summary-2-x-imageStackContainer vtex-product-summary-2-x-hoverEffect\"]/img'\n",
    "        foto = driver.find_element(By.XPATH, \n",
    "                    path_foto).get_attribute('src')\n",
    "\n",
    "        # ================== 3. Nombre ================== #\n",
    "        path_nombre = f'{x_path}//span[@class=\"vtex-product-summary-2-x-productBrand vtex-product-summary-2-x-brandName t-body\"]'\n",
    "        nombre = driver.find_element(By.XPATH, \n",
    "                    path_nombre).text     \n",
    "\n",
    "        # ================== 4. Precio actual ================== #\n",
    "        path_precio_actual_1 = f'{x_path}//span[@class=\"vtex-product-price-1-x-currencyInteger vtex-product-price-1-x-currencyInteger--newlistPrice\"][1]'\n",
    "        precio_actual_1 = driver.find_element(By.XPATH, \n",
    "                    path_precio_actual_1).text\n",
    "\n",
    "        path_precio_actual_2 = f'{x_path}//span[@class=\"vtex-product-price-1-x-currencyInteger vtex-product-price-1-x-currencyInteger--newlistPrice\"][2]'\n",
    "        precio_actual_2 = driver.find_element(By.XPATH, \n",
    "                    path_precio_actual_2).text\n",
    "\n",
    "        try:\n",
    "            # ================== 5. Precio anterior ================== #\n",
    "            path_precio_anterior_1 = f'{x_path}//span[@class=\"vtex-product-price-1-x-currencyInteger vtex-product-price-1-x-currencyInteger--bestPrice\"][1]'\n",
    "            precio_anterior_1 = driver.find_element(By.XPATH, \n",
    "                    path_precio_anterior_1).text\n",
    "\n",
    "            path_precio_anterior_2 = f'{x_path}//span[@class=\"vtex-product-price-1-x-currencyInteger vtex-product-price-1-x-currencyInteger--bestPrice\"][2]'\n",
    "            precio_anterior_2 = driver.find_element(By.XPATH, \n",
    "                    path_precio_anterior_2).text\n",
    "\n",
    "            # ================== 6. Descuento ================== #\n",
    "            path_descuento = f'{x_path}//p[@class=\"hmchile-catalog-discount-0-x-discount_grilla\"]'\n",
    "            descuento = driver.find_element(By.XPATH, \n",
    "                    path_descuento).text  \n",
    "        except: \n",
    "            precio_anterior_1 = 0\n",
    "            precio_anterior_2 = 0\n",
    "            descuento = 0\n",
    "        \n",
    "\n",
    "        dict_item[n_item] = {\n",
    "            'fecha': date.today(),\n",
    "            'foto': foto,\n",
    "            'item': nombre,\n",
    "            'posicion': n_item,\n",
    "            'pag': url,\n",
    "            'precio_actual': f'{precio_actual_1}{precio_actual_2}',\n",
    "            'precio_anterior': f'{precio_anterior_1}{precio_anterior_2}',\n",
    "            'genero': 'Hombre',\n",
    "            'categoria': 'Novedades',\n",
    "            'link': item,\n",
    "            'descuento': descuento\n",
    "        }\n",
    "\n",
    "\n",
    "    except:\n",
    "        try:\n",
    "            load_more_products = './/div[@class=\"vtex-button__label flex items-center justify-center h-100 ph5 \"]'\n",
    "            load_more_products_button = driver.find_element(By.XPATH, \n",
    "                                    load_more_products)\n",
    "            driver.execute_script(\"arguments[0].click();\", \n",
    "                                    load_more_products_button)\n",
    "            time.sleep(3.5)\n",
    "            \n",
    "        except Exception as e: \n",
    "            print(e)\n",
    "            break"
   ]
  }
 ],
 "metadata": {
  "kernelspec": {
   "display_name": "base",
   "language": "python",
   "name": "python3"
  },
  "language_info": {
   "codemirror_mode": {
    "name": "ipython",
    "version": 3
   },
   "file_extension": ".py",
   "mimetype": "text/x-python",
   "name": "python",
   "nbconvert_exporter": "python",
   "pygments_lexer": "ipython3",
   "version": "3.8.8"
  },
  "orig_nbformat": 4,
  "vscode": {
   "interpreter": {
    "hash": "ad2bdc8ecc057115af97d19610ffacc2b4e99fae6737bb82f5d7fb13d2f2c186"
   }
  }
 },
 "nbformat": 4,
 "nbformat_minor": 2
}
